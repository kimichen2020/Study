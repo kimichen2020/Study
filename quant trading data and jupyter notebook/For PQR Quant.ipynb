{
 "cells": [
  {
   "cell_type": "markdown",
   "metadata": {},
   "source": [
    "#  <font color='blue'>Machine Learning in Stock Selection</font>"
   ]
  },
  {
   "cell_type": "code",
   "execution_count": null,
   "metadata": {},
   "outputs": [],
   "source": [
    ""
   ]
  },
  {
   "cell_type": "markdown",
   "metadata": {},
   "source": [
    "##  <font color='red'>1. Import Pacakge</font>"
   ]
  },
  {
   "cell_type": "code",
   "execution_count": 1,
   "metadata": {
    "collapsed": true
   },
   "outputs": [],
   "source": [
    "import numpy as np     # Matrix Computation\n",
    "import pandas as pd    # Handle Dataframe\n",
    "\n",
    "# Show plot in this notebook\n",
    "%matplotlib inline               \n",
    "import matplotlib.pyplot as plt  # Plotting\n",
    "\n",
    "from sklearn.model_selection import train_test_split # Split training and test set\n",
    "from sklearn.model_selection import GridSearchCV     # Select hyper-parameter by cross-validation error \n",
    "from sklearn import metrics as me\n",
    "\n",
    "# Machine Learning Model\n",
    "from sklearn.svm import SVC                                     # Support Vector Machine\n",
    "from sklearn.ensemble import RandomForestClassifier as RFC      # Random Forest\n",
    "from sklearn.ensemble import GradientBoostingClassifier as GBC  # Gradient Boosted"
   ]
  },
  {
   "cell_type": "markdown",
   "metadata": {},
   "source": [
    "##  <font color='red'>2. Parameter Setting</font>"
   ]
  },
  {
   "cell_type": "code",
   "execution_count": 2,
   "metadata": {
    "collapsed": true
   },
   "outputs": [],
   "source": [
    "class PARA:\n",
    "    method = 'SVM'  # 'RF', 'GBT'\n",
    "    month_train = range(1, 84+1)          # In-sample 84 data points = 84 training examples\n",
    "    month_test = range(85, 120+1)         # Out-of-sample 36 data points = 36 test examples\n",
    "    percent_select  = [0.5, 0.5]          # 50% positive examples，50% negative examples\n",
    "    cv = 10                               # 10-fold cross-validation\n",
    "    seed = 1                              # Random seed, for results reproduction\n",
    "para = PARA()"
   ]
  },
  {
   "cell_type": "markdown",
   "metadata": {},
   "source": [
    "##  <font color='red'>3. Data Labeling</font>"
   ]
  },
  {
   "cell_type": "code",
   "execution_count": 3,
   "metadata": {
    "collapsed": true
   },
   "outputs": [],
   "source": [
    "def label_data( data ):\n",
    "    data['Label'] = np.nan                                        # Initialization\n",
    "    data = data.sort_values( by='Return', ascending=False )       # Sort excess return in descending order\n",
    "    n_stock = np.multiply( para.percent_select, data.shape[0] )   # Compute the number for stocks for positive and negative class\n",
    "    n_stock = np.around(n_stock).astype(int)                      # Round number of stocks to integer\n",
    "    data.iloc[0:n_stock[0], -1] = 1                               # Assign 1 to those stocks with best performace \n",
    "    data.iloc[-n_stock[1]:, -1] = 0                               # Assign 0 to those stocks with worst performace \n",
    "    data = data.dropna(axis=0)                                    # Delete examples with NaN value\n",
    "    return data"
   ]
  },
  {
   "cell_type": "code",
   "execution_count": 4,
   "metadata": {
    "collapsed": true
   },
   "outputs": [],
   "source": [
    "for i in para.month_train:\n",
    "    # load csv month by month\n",
    "    file_name = str(i) + '.csv'\n",
    "    data_curr_month = pd.read_csv( file_name, header=0 )\n",
    "    para.n_stock = data_curr_month.shape[0]\n",
    "    \n",
    "    # remove NaN\n",
    "    data_curr_month = data_curr_month.dropna(axis=0)\n",
    "    \n",
    "    # label data\n",
    "    data_curr_month = label_data( data_curr_month )\n",
    "    \n",
    "    # merger to a single dataframe\n",
    "    if i == para.month_train[0]: # first month\n",
    "        data_train = data_curr_month\n",
    "    else:\n",
    "        data_train = data_train.append(data_curr_month)"
   ]
  },
  {
   "cell_type": "markdown",
   "metadata": {},
   "source": [
    "##  <font color='red'>4. Data Preprocessing</font>"
   ]
  },
  {
   "cell_type": "code",
   "execution_count": 5,
   "metadata": {
    "collapsed": true
   },
   "outputs": [],
   "source": [
    "X = data_train.loc[:, 'EP':'BIAS'];\n",
    "y = data_train.loc[:, 'Label'];\n",
    "\n",
    "#X_train, X_cv, y_train, y_cv = train_test_split(X, y, test_size=para.percent_cv, random_state=para.seed)\n",
    "X_train = X\n",
    "y_train = y"
   ]
  },
  {
   "cell_type": "markdown",
   "metadata": {},
   "source": [
    "##  <font color='red'>5. Model Setting</font>"
   ]
  },
  {
   "cell_type": "code",
   "execution_count": 6,
   "metadata": {
    "collapsed": true
   },
   "outputs": [],
   "source": [
    "if para.method == 'SVM':                                # Support Vector Machine\n",
    "    model = SVC( kernel = 'rbf', C = 0.01 )\n",
    "elif para.method == 'RF':                               # Random Forest \n",
    "    model = RFC( n_estimators=200, max_depth=6, random_state=para.seed )\n",
    "elif para.method == 'GBT':                              # Gradient Boosted Tree \n",
    "    model = GBC( n_estimators=200, max_depth=6,  random_state=para.seed )"
   ]
  },
  {
   "cell_type": "markdown",
   "metadata": {},
   "source": [
    "##  <font color='red'>6. Model Training</font>"
   ]
  },
  {
   "cell_type": "code",
   "execution_count": 7,
   "metadata": {
    "collapsed": true
   },
   "outputs": [],
   "source": [
    "# Train SVM model given it is with RBF kernel and 0.01 penalty coefficient\n",
    "model.fit( X_train, y_train )\n",
    "Y_pred_train = model.predict( X_train )\n",
    "Y_score_train = model.decision_function( X_train )"
   ]
  },
  {
   "cell_type": "code",
   "execution_count": 8,
   "metadata": {},
   "outputs": [
    {
     "data": {
      "text/plain": [
       "GridSearchCV(cv=10, error_score='raise',\n",
       "       estimator=SVC(C=0.01, cache_size=200, class_weight=None, coef0=0.0,\n",
       "  decision_function_shape=None, degree=3, gamma='auto', kernel='rbf',\n",
       "  max_iter=-1, probability=False, random_state=None, shrinking=True,\n",
       "  tol=0.001, verbose=False),\n",
       "       fit_params={}, iid=True, n_jobs=1,\n",
       "       param_grid={'kernel': ('linear', 'rbf'), 'C': [0.01, 0.1, 1, 10]},\n",
       "       pre_dispatch='2*n_jobs', refit=True, return_train_score=True,\n",
       "       scoring=None, verbose=0)"
      ]
     },
     "execution_count": 8,
     "metadata": {},
     "output_type": "execute_result"
    }
   ],
   "source": [
    "# Select best hyper-parameter by cross-validation error\n",
    "parameters = { 'kernel':('linear', 'rbf'), 'C':[0.01, 0.1, 1, 10] }\n",
    "GS = GridSearchCV( model, parameters, cv=para.cv )\n",
    "GS.fit( X_train, y_train )"
   ]
  },
  {
   "cell_type": "code",
   "execution_count": 9,
   "metadata": {},
   "outputs": [
    {
     "data": {
      "text/plain": [
       "({'C': 0.01, 'kernel': 'rbf'}, 0.51468253968253963)"
      ]
     },
     "execution_count": 9,
     "metadata": {},
     "output_type": "execute_result"
    }
   ],
   "source": [
    "#GS.cv_results_\n",
    "GS.best_params_, GS.best_score_"
   ]
  },
  {
   "cell_type": "code",
   "execution_count": 10,
   "metadata": {},
   "outputs": [
    {
     "name": "stdout",
     "output_type": "stream",
     "text": [
      "training set, accuracy = 0.63\n",
      "training set, AUC = 0.68\n"
     ]
    }
   ],
   "source": [
    "best_model = SVC( kernel = GS.best_params_['kernel'], C = GS.best_params_['C'] )\n",
    "best_model.fit( X_train, y_train )\n",
    "y_pred_train = best_model.predict( X_train )\n",
    "y_score_train = best_model.decision_function( X_train )\n",
    "\n",
    "print( 'training set, accuracy = %.2f' %me.accuracy_score( y_train, y_pred_train ) )\n",
    "print( 'training set, AUC = %.2f' %me.roc_auc_score( y_train, y_score_train ) )"
   ]
  },
  {
   "cell_type": "markdown",
   "metadata": {},
   "source": [
    "##  <font color='red'>7. Model Assessment</font>"
   ]
  },
  {
   "cell_type": "code",
   "execution_count": 11,
   "metadata": {
    "collapsed": true,
    "scrolled": true
   },
   "outputs": [],
   "source": [
    "A = pd.DataFrame( [np.nan]*np.ones((para.n_stock, para.month_test[-1])) )\n",
    "y_true_test = A\n",
    "y_pred_test = A\n",
    "y_score_test = A\n",
    "\n",
    "for i in para.month_test:\n",
    "    file_name = str(i) + '.csv'\n",
    "    data_curr_month = pd.read_csv( file_name, header=0 )\n",
    "    \n",
    "    # remove NaN\n",
    "    data_curr_month = data_curr_month.dropna(axis=0)\n",
    "    X_curr_month = data_curr_month.loc[:,'EP':'BIAS']\n",
    "\n",
    "    y_pred_curr_month = best_model.predict( X_curr_month )\n",
    "    y_score_curr_month = best_model.decision_function( X_curr_month )\n",
    "\n",
    "    idx = data_curr_month.index\n",
    "    \n",
    "    y_true_test.iloc[ idx, i-1 ] = data_curr_month['Return'][idx]\n",
    "    y_pred_test.iloc[ idx, i-1 ] = y_pred_curr_month\n",
    "    y_score_test.iloc[ idx, i-1 ] = y_score_curr_month\n",
    "\n",
    "y_pred_test[y_pred_test>0] = 1\n",
    "y_pred_test[y_pred_test<0] = 0"
   ]
  },
  {
   "cell_type": "code",
   "execution_count": 12,
   "metadata": {},
   "outputs": [
    {
     "name": "stdout",
     "output_type": "stream",
     "text": [
      "test set, month 85, accuracy = 0.90\n",
      "test set, month 85, AUC = 0.90\n",
      "test set, month 86, accuracy = 0.90\n",
      "test set, month 86, AUC = 0.90\n",
      "test set, month 87, accuracy = 0.97\n",
      "test set, month 87, AUC = 0.97\n",
      "test set, month 88, accuracy = 0.93\n",
      "test set, month 88, AUC = 0.93\n",
      "test set, month 89, accuracy = 0.93\n",
      "test set, month 89, AUC = 0.93\n",
      "test set, month 90, accuracy = 0.90\n",
      "test set, month 90, AUC = 0.90\n",
      "test set, month 91, accuracy = 0.93\n",
      "test set, month 91, AUC = 0.93\n",
      "test set, month 92, accuracy = 0.93\n",
      "test set, month 92, AUC = 0.93\n",
      "test set, month 93, accuracy = 0.93\n",
      "test set, month 93, AUC = 0.93\n",
      "test set, month 94, accuracy = 0.90\n",
      "test set, month 94, AUC = 0.90\n",
      "test set, month 95, accuracy = 0.83\n",
      "test set, month 95, AUC = 0.83\n",
      "test set, month 96, accuracy = 0.97\n",
      "test set, month 96, AUC = 0.97\n",
      "test set, month 97, accuracy = 0.90\n",
      "test set, month 97, AUC = 0.90\n",
      "test set, month 98, accuracy = 0.93\n",
      "test set, month 98, AUC = 0.93\n",
      "test set, month 99, accuracy = 0.80\n",
      "test set, month 99, AUC = 0.80\n",
      "test set, month 100, accuracy = 0.87\n",
      "test set, month 100, AUC = 0.87\n",
      "test set, month 101, accuracy = 0.97\n",
      "test set, month 101, AUC = 0.97\n",
      "test set, month 102, accuracy = 0.93\n",
      "test set, month 102, AUC = 0.93\n",
      "test set, month 103, accuracy = 0.90\n",
      "test set, month 103, AUC = 0.90\n",
      "test set, month 104, accuracy = 0.97\n",
      "test set, month 104, AUC = 0.97\n",
      "test set, month 105, accuracy = 0.93\n",
      "test set, month 105, AUC = 0.93\n",
      "test set, month 106, accuracy = 0.93\n",
      "test set, month 106, AUC = 0.93\n",
      "test set, month 107, accuracy = 0.93\n",
      "test set, month 107, AUC = 0.93\n",
      "test set, month 108, accuracy = 0.93\n",
      "test set, month 108, AUC = 0.93\n",
      "test set, month 109, accuracy = 1.00\n",
      "test set, month 109, AUC = 1.00\n",
      "test set, month 110, accuracy = 0.90\n",
      "test set, month 110, AUC = 0.90\n",
      "test set, month 111, accuracy = 0.93\n",
      "test set, month 111, AUC = 0.93\n",
      "test set, month 112, accuracy = 0.77\n",
      "test set, month 112, AUC = 0.77\n",
      "test set, month 113, accuracy = 0.97\n",
      "test set, month 113, AUC = 0.97\n",
      "test set, month 114, accuracy = 0.97\n",
      "test set, month 114, AUC = 0.97\n",
      "test set, month 115, accuracy = 0.90\n",
      "test set, month 115, AUC = 0.90\n",
      "test set, month 116, accuracy = 0.87\n",
      "test set, month 116, AUC = 0.87\n",
      "test set, month 117, accuracy = 0.87\n",
      "test set, month 117, AUC = 0.87\n",
      "test set, month 118, accuracy = 0.93\n",
      "test set, month 118, AUC = 0.93\n",
      "test set, month 119, accuracy = 0.87\n",
      "test set, month 119, AUC = 0.87\n",
      "test set, month 120, accuracy = 0.97\n",
      "test set, month 120, AUC = 0.97\n"
     ]
    }
   ],
   "source": [
    "for i in para.month_test:       # Print accuracy and AUC for each test example \n",
    "    y_true_i_month = pd.DataFrame( {'Return':y_true_test.iloc[:,i-1]} )\n",
    "    y_pred_i_month = y_pred_test.iloc[:,i-1]\n",
    "    y_score_i_month = y_score_test.iloc[:,i-1]\n",
    "\n",
    "    # remove NaN\n",
    "    y_true_i_month = y_true_i_month.dropna(axis=0)\n",
    "    \n",
    "    y_i_month = label_data( y_true_i_month )['Label']\n",
    "\n",
    "    y_pred_i_month = y_pred_i_month[ y_i_month.index ].values\n",
    "    y_score_i_month = y_score_i_month[ y_i_month.index ].values\n",
    "\n",
    "    print( 'test set, month %d, accuracy = %.2f' %(i, me.accuracy_score( y_i_month, y_pred_i_month ) ) )\n",
    "    print( 'test set, month %d, AUC = %.2f' %(i, me.roc_auc_score( y_i_month, y_score_i_month ) ) )"
   ]
  },
  {
   "cell_type": "markdown",
   "metadata": {},
   "source": [
    "##  <font color='red'>8. Strategy Implementation</font>"
   ]
  },
  {
   "cell_type": "code",
   "execution_count": 13,
   "metadata": {
    "collapsed": true
   },
   "outputs": [],
   "source": [
    "n_stock = 20\n",
    "strategy = pd.DataFrame( {'Return':[0]*para.month_test[-1], 'Value':[1]*para.month_test[-1]} )\n",
    "\n",
    "for i in para.month_test:\n",
    "    y_true_i_month = y_true_test.iloc[:,i-1]\n",
    "    y_score_i_month = y_score_test.iloc[:,i-1]\n",
    "\n",
    "    y_score_i_month = y_score_i_month.sort_values(ascending=False)     # Sort the score (probability of up) in descending order\n",
    "    i_index = y_score_i_month[0:n_stock].index                         # Find the index of the first 20 stocks\n",
    "\n",
    "    strategy.loc[i-1,'Return'] = np.mean(y_true_i_month [i_index])     # Compute the mean return of the 20 stocks\n",
    "\n",
    "strategy['Value'] = (strategy['Return']+1).cumprod()                   # Mutiply the mean return each test month to get total return"
   ]
  },
  {
   "cell_type": "markdown",
   "metadata": {},
   "source": [
    "##  <font color='red'>9. Strategy Assessment</font>"
   ]
  },
  {
   "cell_type": "code",
   "execution_count": 14,
   "metadata": {},
   "outputs": [
    {
     "data": {
      "image/png": "[encoded data removed]",
      "text/plain": [
       "<matplotlib.figure.Figure at 0x23af5365e80>"
      ]
     },
     "metadata": {},
     "output_type": "display_data"
    },
    {
     "name": "stdout",
     "output_type": "stream",
     "text": [
      "annual excess return = 9.84\n",
      "annual excess volatility= 0.41\n",
      "information ratio = 24.23\n"
     ]
    }
   ],
   "source": [
    "plt.plot( para.month_test, strategy.loc[para.month_test,'Value'] , 'r-' )\n",
    "plt.show()\n",
    "\n",
    "excess_return = np.mean(strategy.loc[para.month_test,'Return']) * 12         # Compute annualized excess return\n",
    "excess_vol = np.std(strategy.loc[para.month_test,'Return']) * np.sqrt(12)    # Compute annualized volatility of excess return\n",
    "IR = excess_return / excess_vol                                              # Compute information ratio\n",
    "\n",
    "print( 'annual excess return = %.2f' %excess_return )\n",
    "print( 'annual excess volatility= %.2f' %excess_vol )\n",
    "print( 'information ratio = %.2f' %IR)"
   ]
  }
 ],
 "metadata": {
  "kernelspec": {
   "display_name": "Python 3",
   "language": "python",
   "name": "python3"
  },
  "language_info": {
   "codemirror_mode": {
    "name": "ipython",
    "version": 3.0
   },
   "file_extension": ".py",
   "mimetype": "text/x-python",
   "name": "python",
   "nbconvert_exporter": "python",
   "pygments_lexer": "ipython3",
   "version": "3.6.1"
  }
 },
 "nbformat": 4,
 "nbformat_minor": 0
}